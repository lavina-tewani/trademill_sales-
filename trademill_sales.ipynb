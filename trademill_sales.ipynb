{
 "cells": [
  {
   "cell_type": "code",
   "execution_count": 28,
   "metadata": {},
   "outputs": [],
   "source": [
    "import numpy as np\n",
    "import pandas as pd\n",
    "import statistics as stat\n",
    "from statistics import mode\n",
    "import matplotlib.pyplot as plt\n",
    "import seaborn as sns"
   ]
  },
  {
   "cell_type": "markdown",
   "metadata": {},
   "source": [
    "ABOUT THIS DATA :\n",
    "This dataset contains customer treadmill purchase information.\n",
    "To explore the dataset to identify differences between customers of each product.\n",
    "DATA FIELDS :-\n",
    "Product - the model no. of the treadmill\n",
    "Age - in no of years, of the customer\n",
    "Gender - of the customer\n",
    "Education - in no. of years, of the customer\n",
    "Marital Status - of the customer\n",
    "Usage - Avg. # times the customer wants to use the treadmill every week\n",
    "Fitness - Self rated fitness score of the customer (5 - very fit, 1 - very unfit)\n",
    "Income - of the customer\n",
    "Miles- expected to run"
   ]
  },
  {
   "cell_type": "code",
   "execution_count": 3,
   "metadata": {},
   "outputs": [],
   "source": [
    "# upload csv file \n",
    "\n",
    "trademillsales= pd.read_csv(r\"C:\\Users\\sanja\\Desktop\\projects\\Exploratorydataanalysiscustomer treadmill purchase information\\CardioGoodFitness.csv\")"
   ]
  },
  {
   "cell_type": "code",
   "execution_count": 4,
   "metadata": {},
   "outputs": [
    {
     "data": {
      "text/html": [
       "<div>\n",
       "<style scoped>\n",
       "    .dataframe tbody tr th:only-of-type {\n",
       "        vertical-align: middle;\n",
       "    }\n",
       "\n",
       "    .dataframe tbody tr th {\n",
       "        vertical-align: top;\n",
       "    }\n",
       "\n",
       "    .dataframe thead th {\n",
       "        text-align: right;\n",
       "    }\n",
       "</style>\n",
       "<table border=\"1\" class=\"dataframe\">\n",
       "  <thead>\n",
       "    <tr style=\"text-align: right;\">\n",
       "      <th></th>\n",
       "      <th>Age</th>\n",
       "      <th>Education = in no. of years, of the customer</th>\n",
       "      <th>Usage = Avg. # times the customer wants to use the treadmill every week</th>\n",
       "      <th>Fitness = Self rated fitness score of the customer (5 - very fit, 1 - very unfit)</th>\n",
       "      <th>Income</th>\n",
       "      <th>Miles = expected to run</th>\n",
       "    </tr>\n",
       "  </thead>\n",
       "  <tbody>\n",
       "    <tr>\n",
       "      <th>count</th>\n",
       "      <td>180.000000</td>\n",
       "      <td>180.000000</td>\n",
       "      <td>180.000000</td>\n",
       "      <td>180.000000</td>\n",
       "      <td>180.000000</td>\n",
       "      <td>180.000000</td>\n",
       "    </tr>\n",
       "    <tr>\n",
       "      <th>mean</th>\n",
       "      <td>28.788889</td>\n",
       "      <td>15.572222</td>\n",
       "      <td>3.455556</td>\n",
       "      <td>3.311111</td>\n",
       "      <td>53719.577778</td>\n",
       "      <td>103.194444</td>\n",
       "    </tr>\n",
       "    <tr>\n",
       "      <th>std</th>\n",
       "      <td>6.943498</td>\n",
       "      <td>1.617055</td>\n",
       "      <td>1.084797</td>\n",
       "      <td>0.958869</td>\n",
       "      <td>16506.684226</td>\n",
       "      <td>51.863605</td>\n",
       "    </tr>\n",
       "    <tr>\n",
       "      <th>min</th>\n",
       "      <td>18.000000</td>\n",
       "      <td>12.000000</td>\n",
       "      <td>2.000000</td>\n",
       "      <td>1.000000</td>\n",
       "      <td>29562.000000</td>\n",
       "      <td>21.000000</td>\n",
       "    </tr>\n",
       "    <tr>\n",
       "      <th>25%</th>\n",
       "      <td>24.000000</td>\n",
       "      <td>14.000000</td>\n",
       "      <td>3.000000</td>\n",
       "      <td>3.000000</td>\n",
       "      <td>44058.750000</td>\n",
       "      <td>66.000000</td>\n",
       "    </tr>\n",
       "    <tr>\n",
       "      <th>50%</th>\n",
       "      <td>26.000000</td>\n",
       "      <td>16.000000</td>\n",
       "      <td>3.000000</td>\n",
       "      <td>3.000000</td>\n",
       "      <td>50596.500000</td>\n",
       "      <td>94.000000</td>\n",
       "    </tr>\n",
       "    <tr>\n",
       "      <th>75%</th>\n",
       "      <td>33.000000</td>\n",
       "      <td>16.000000</td>\n",
       "      <td>4.000000</td>\n",
       "      <td>4.000000</td>\n",
       "      <td>58668.000000</td>\n",
       "      <td>114.750000</td>\n",
       "    </tr>\n",
       "    <tr>\n",
       "      <th>max</th>\n",
       "      <td>50.000000</td>\n",
       "      <td>21.000000</td>\n",
       "      <td>7.000000</td>\n",
       "      <td>5.000000</td>\n",
       "      <td>104581.000000</td>\n",
       "      <td>360.000000</td>\n",
       "    </tr>\n",
       "  </tbody>\n",
       "</table>\n",
       "</div>"
      ],
      "text/plain": [
       "              Age  Education = in no. of years, of the customer  \\\n",
       "count  180.000000                                    180.000000   \n",
       "mean    28.788889                                     15.572222   \n",
       "std      6.943498                                      1.617055   \n",
       "min     18.000000                                     12.000000   \n",
       "25%     24.000000                                     14.000000   \n",
       "50%     26.000000                                     16.000000   \n",
       "75%     33.000000                                     16.000000   \n",
       "max     50.000000                                     21.000000   \n",
       "\n",
       "       Usage = Avg. # times the customer wants to use the treadmill every week  \\\n",
       "count                                         180.000000                         \n",
       "mean                                            3.455556                         \n",
       "std                                             1.084797                         \n",
       "min                                             2.000000                         \n",
       "25%                                             3.000000                         \n",
       "50%                                             3.000000                         \n",
       "75%                                             4.000000                         \n",
       "max                                             7.000000                         \n",
       "\n",
       "       Fitness = Self rated fitness score of the customer (5 - very fit, 1 - very unfit)  \\\n",
       "count                                         180.000000                                   \n",
       "mean                                            3.311111                                   \n",
       "std                                             0.958869                                   \n",
       "min                                             1.000000                                   \n",
       "25%                                             3.000000                                   \n",
       "50%                                             3.000000                                   \n",
       "75%                                             4.000000                                   \n",
       "max                                             5.000000                                   \n",
       "\n",
       "              Income  Miles = expected to run  \n",
       "count     180.000000               180.000000  \n",
       "mean    53719.577778               103.194444  \n",
       "std     16506.684226                51.863605  \n",
       "min     29562.000000                21.000000  \n",
       "25%     44058.750000                66.000000  \n",
       "50%     50596.500000                94.000000  \n",
       "75%     58668.000000               114.750000  \n",
       "max    104581.000000               360.000000  "
      ]
     },
     "execution_count": 4,
     "metadata": {},
     "output_type": "execute_result"
    }
   ],
   "source": [
    "trademillsales.describe()"
   ]
  },
  {
   "cell_type": "markdown",
   "metadata": {},
   "source": [
    "Age \n",
    "mean = 28.788889\tmedian = 26    mode = 3 median - 2 mean   "
   ]
  },
  {
   "cell_type": "code",
   "execution_count": 5,
   "metadata": {},
   "outputs": [
    {
     "name": "stdout",
     "output_type": "stream",
     "text": [
      "20.422221999999998\n"
     ]
    }
   ],
   "source": [
    "mode = 3*26- 2*28.788889\n",
    "print(mode)"
   ]
  },
  {
   "cell_type": "code",
   "execution_count": 6,
   "metadata": {},
   "outputs": [
    {
     "data": {
      "text/plain": [
       "<bound method DataFrame.mode of     Product = the model no. of the treadmill  Age  Gender  \\\n",
       "0                                      TM195   18    Male   \n",
       "1                                      TM195   19    Male   \n",
       "2                                      TM195   19  Female   \n",
       "3                                      TM195   19    Male   \n",
       "4                                      TM195   20    Male   \n",
       "..                                       ...  ...     ...   \n",
       "175                                    TM798   40    Male   \n",
       "176                                    TM798   42    Male   \n",
       "177                                    TM798   45    Male   \n",
       "178                                    TM798   47    Male   \n",
       "179                                    TM798   48    Male   \n",
       "\n",
       "     Education = in no. of years, of the customer MaritalStatus  \\\n",
       "0                                              14        Single   \n",
       "1                                              15        Single   \n",
       "2                                              14     Partnered   \n",
       "3                                              12        Single   \n",
       "4                                              13     Partnered   \n",
       "..                                            ...           ...   \n",
       "175                                            21        Single   \n",
       "176                                            18        Single   \n",
       "177                                            16        Single   \n",
       "178                                            18     Partnered   \n",
       "179                                            18     Partnered   \n",
       "\n",
       "     Usage = Avg. # times the customer wants to use the treadmill every week  \\\n",
       "0                                                    3                         \n",
       "1                                                    2                         \n",
       "2                                                    4                         \n",
       "3                                                    3                         \n",
       "4                                                    4                         \n",
       "..                                                 ...                         \n",
       "175                                                  6                         \n",
       "176                                                  5                         \n",
       "177                                                  5                         \n",
       "178                                                  4                         \n",
       "179                                                  4                         \n",
       "\n",
       "     Fitness = Self rated fitness score of the customer (5 - very fit, 1 - very unfit)  \\\n",
       "0                                                    4                                   \n",
       "1                                                    3                                   \n",
       "2                                                    3                                   \n",
       "3                                                    3                                   \n",
       "4                                                    2                                   \n",
       "..                                                 ...                                   \n",
       "175                                                  5                                   \n",
       "176                                                  4                                   \n",
       "177                                                  5                                   \n",
       "178                                                  5                                   \n",
       "179                                                  5                                   \n",
       "\n",
       "     Income  Miles = expected to run  \n",
       "0     29562                      112  \n",
       "1     31836                       75  \n",
       "2     30699                       66  \n",
       "3     32973                       85  \n",
       "4     35247                       47  \n",
       "..      ...                      ...  \n",
       "175   83416                      200  \n",
       "176   89641                      200  \n",
       "177   90886                      160  \n",
       "178  104581                      120  \n",
       "179   95508                      180  \n",
       "\n",
       "[180 rows x 9 columns]>"
      ]
     },
     "execution_count": 6,
     "metadata": {},
     "output_type": "execute_result"
    }
   ],
   "source": [
    "trademillsales.mode"
   ]
  },
  {
   "cell_type": "code",
   "execution_count": 7,
   "metadata": {},
   "outputs": [
    {
     "data": {
      "text/html": [
       "<div>\n",
       "<style scoped>\n",
       "    .dataframe tbody tr th:only-of-type {\n",
       "        vertical-align: middle;\n",
       "    }\n",
       "\n",
       "    .dataframe tbody tr th {\n",
       "        vertical-align: top;\n",
       "    }\n",
       "\n",
       "    .dataframe thead th {\n",
       "        text-align: right;\n",
       "    }\n",
       "</style>\n",
       "<table border=\"1\" class=\"dataframe\">\n",
       "  <thead>\n",
       "    <tr style=\"text-align: right;\">\n",
       "      <th></th>\n",
       "      <th>Product = the model no. of the treadmill</th>\n",
       "      <th>Age</th>\n",
       "      <th>Gender</th>\n",
       "      <th>Education = in no. of years, of the customer</th>\n",
       "      <th>MaritalStatus</th>\n",
       "      <th>Usage = Avg. # times the customer wants to use the treadmill every week</th>\n",
       "      <th>Fitness = Self rated fitness score of the customer (5 - very fit, 1 - very unfit)</th>\n",
       "      <th>Income</th>\n",
       "      <th>Miles = expected to run</th>\n",
       "    </tr>\n",
       "  </thead>\n",
       "  <tbody>\n",
       "    <tr>\n",
       "      <th>0</th>\n",
       "      <td>TM195</td>\n",
       "      <td>18</td>\n",
       "      <td>Male</td>\n",
       "      <td>14</td>\n",
       "      <td>Single</td>\n",
       "      <td>3</td>\n",
       "      <td>4</td>\n",
       "      <td>29562</td>\n",
       "      <td>112</td>\n",
       "    </tr>\n",
       "    <tr>\n",
       "      <th>1</th>\n",
       "      <td>TM195</td>\n",
       "      <td>19</td>\n",
       "      <td>Male</td>\n",
       "      <td>15</td>\n",
       "      <td>Single</td>\n",
       "      <td>2</td>\n",
       "      <td>3</td>\n",
       "      <td>31836</td>\n",
       "      <td>75</td>\n",
       "    </tr>\n",
       "    <tr>\n",
       "      <th>2</th>\n",
       "      <td>TM195</td>\n",
       "      <td>19</td>\n",
       "      <td>Female</td>\n",
       "      <td>14</td>\n",
       "      <td>Partnered</td>\n",
       "      <td>4</td>\n",
       "      <td>3</td>\n",
       "      <td>30699</td>\n",
       "      <td>66</td>\n",
       "    </tr>\n",
       "    <tr>\n",
       "      <th>3</th>\n",
       "      <td>TM195</td>\n",
       "      <td>19</td>\n",
       "      <td>Male</td>\n",
       "      <td>12</td>\n",
       "      <td>Single</td>\n",
       "      <td>3</td>\n",
       "      <td>3</td>\n",
       "      <td>32973</td>\n",
       "      <td>85</td>\n",
       "    </tr>\n",
       "    <tr>\n",
       "      <th>4</th>\n",
       "      <td>TM195</td>\n",
       "      <td>20</td>\n",
       "      <td>Male</td>\n",
       "      <td>13</td>\n",
       "      <td>Partnered</td>\n",
       "      <td>4</td>\n",
       "      <td>2</td>\n",
       "      <td>35247</td>\n",
       "      <td>47</td>\n",
       "    </tr>\n",
       "  </tbody>\n",
       "</table>\n",
       "</div>"
      ],
      "text/plain": [
       "  Product = the model no. of the treadmill  Age  Gender  \\\n",
       "0                                    TM195   18    Male   \n",
       "1                                    TM195   19    Male   \n",
       "2                                    TM195   19  Female   \n",
       "3                                    TM195   19    Male   \n",
       "4                                    TM195   20    Male   \n",
       "\n",
       "   Education = in no. of years, of the customer MaritalStatus  \\\n",
       "0                                            14        Single   \n",
       "1                                            15        Single   \n",
       "2                                            14     Partnered   \n",
       "3                                            12        Single   \n",
       "4                                            13     Partnered   \n",
       "\n",
       "   Usage = Avg. # times the customer wants to use the treadmill every week  \\\n",
       "0                                                  3                         \n",
       "1                                                  2                         \n",
       "2                                                  4                         \n",
       "3                                                  3                         \n",
       "4                                                  4                         \n",
       "\n",
       "   Fitness = Self rated fitness score of the customer (5 - very fit, 1 - very unfit)  \\\n",
       "0                                                  4                                   \n",
       "1                                                  3                                   \n",
       "2                                                  3                                   \n",
       "3                                                  3                                   \n",
       "4                                                  2                                   \n",
       "\n",
       "   Income  Miles = expected to run  \n",
       "0   29562                      112  \n",
       "1   31836                       75  \n",
       "2   30699                       66  \n",
       "3   32973                       85  \n",
       "4   35247                       47  "
      ]
     },
     "execution_count": 7,
     "metadata": {},
     "output_type": "execute_result"
    }
   ],
   "source": [
    "trademillsales.head()"
   ]
  },
  {
   "cell_type": "code",
   "execution_count": 8,
   "metadata": {},
   "outputs": [
    {
     "name": "stdout",
     "output_type": "stream",
     "text": [
      "<class 'pandas.core.frame.DataFrame'>\n",
      "RangeIndex: 180 entries, 0 to 179\n",
      "Data columns (total 9 columns):\n",
      " #   Column                                                                             Non-Null Count  Dtype \n",
      "---  ------                                                                             --------------  ----- \n",
      " 0   Product = the model no. of the treadmill                                           180 non-null    object\n",
      " 1   Age                                                                                180 non-null    int64 \n",
      " 2   Gender                                                                             180 non-null    object\n",
      " 3   Education = in no. of years, of the customer                                       180 non-null    int64 \n",
      " 4   MaritalStatus                                                                      180 non-null    object\n",
      " 5   Usage = Avg. # times the customer wants to use the treadmill every week            180 non-null    int64 \n",
      " 6   Fitness = Self rated fitness score of the customer (5 - very fit, 1 - very unfit)  180 non-null    int64 \n",
      " 7   Income                                                                             180 non-null    int64 \n",
      " 8   Miles = expected to run                                                            180 non-null    int64 \n",
      "dtypes: int64(6), object(3)\n",
      "memory usage: 12.8+ KB\n"
     ]
    }
   ],
   "source": [
    "trademillsales.info()"
   ]
  },
  {
   "cell_type": "code",
   "execution_count": 9,
   "metadata": {},
   "outputs": [],
   "source": [
    "# Rename columns to make it easy.\n",
    "trademillsales_df= pd.DataFrame(trademillsales)\n",
    "trademillsales_df.rename(columns = {'Product = the model no. of the treadmill':'Product', ' Education = in no. of years, of the customer':'Education',' Usage /= Avg. /# times the customer wants to use the treadmill every week':'Usage','Fitness = Self rated fitness score of the customer (5 - very fit, 1 - very unfit)':'Fitness','Miles = expected to run':'Miles'}, inplace = True)\n",
    "trademillsales_df.rename(columns = {'Education = in no. of years, of the customer':'Education',\"Usage = Avg. # times the customer wants to use the treadmill every week\":'Usage',}, inplace = True)\n"
   ]
  },
  {
   "cell_type": "code",
   "execution_count": 10,
   "metadata": {},
   "outputs": [
    {
     "name": "stdout",
     "output_type": "stream",
     "text": [
      "<class 'pandas.core.frame.DataFrame'>\n",
      "RangeIndex: 180 entries, 0 to 179\n",
      "Data columns (total 9 columns):\n",
      " #   Column         Non-Null Count  Dtype \n",
      "---  ------         --------------  ----- \n",
      " 0   Product        180 non-null    object\n",
      " 1   Age            180 non-null    int64 \n",
      " 2   Gender         180 non-null    object\n",
      " 3   Education      180 non-null    int64 \n",
      " 4   MaritalStatus  180 non-null    object\n",
      " 5   Usage          180 non-null    int64 \n",
      " 6   Fitness        180 non-null    int64 \n",
      " 7   Income         180 non-null    int64 \n",
      " 8   Miles          180 non-null    int64 \n",
      "dtypes: int64(6), object(3)\n",
      "memory usage: 12.8+ KB\n"
     ]
    }
   ],
   "source": [
    "trademillsales_df.info()"
   ]
  },
  {
   "cell_type": "code",
   "execution_count": 11,
   "metadata": {},
   "outputs": [
    {
     "name": "stdout",
     "output_type": "stream",
     "text": [
      "['TM195' 'TM498' 'TM798']\n",
      "3\n"
     ]
    }
   ],
   "source": [
    "product = trademillsales_df.Product.unique()\n",
    "print(product)\n",
    "print(len(product))"
   ]
  },
  {
   "cell_type": "code",
   "execution_count": 12,
   "metadata": {},
   "outputs": [
    {
     "name": "stdout",
     "output_type": "stream",
     "text": [
      "['Male' 'Female']\n",
      "2\n"
     ]
    }
   ],
   "source": [
    "gender = trademillsales_df.Gender.unique()\n",
    "print(gender)\n",
    "print(len(gender))"
   ]
  },
  {
   "cell_type": "code",
   "execution_count": null,
   "metadata": {},
   "outputs": [],
   "source": [
    "def skewness():\n",
    "    "
   ]
  },
  {
   "cell_type": "markdown",
   "metadata": {},
   "source": [
    "creating a pivot table to analysie the data \n",
    "as we need to analyse the customer of each product i.e. TM195 , TM498  , TM798 . "
   ]
  },
  {
   "cell_type": "code",
   "execution_count": 30,
   "metadata": {},
   "outputs": [
    {
     "name": "stdout",
     "output_type": "stream",
     "text": [
      "                     median                   mean                        \\\n",
      "Product               TM195 TM498 TM798      TM195      TM498      TM798   \n",
      "Gender MaritalStatus                                                       \n",
      "Female Partnered       27.0  31.0  29.0  28.333333  30.000000  29.000000   \n",
      "       Single          26.0  25.5  24.0  28.692308  28.142857  24.333333   \n",
      "Male   Partnered       30.0  31.0  27.0  31.380952  30.380952  30.000000   \n",
      "       Single          25.0  25.0  25.5  25.631579  25.200000  28.928571   \n",
      "\n",
      "                     count              \n",
      "Product              TM195 TM498 TM798  \n",
      "Gender MaritalStatus                    \n",
      "Female Partnered        27    15     4  \n",
      "       Single           13    14     3  \n",
      "Male   Partnered        21    21    19  \n",
      "       Single           19    10    14  \n"
     ]
    }
   ],
   "source": [
    "GENDERPRODUCT=pd.pivot_table(trademillsales,values=\"Age\",index=[\"Gender\",\"MaritalStatus\"],columns=\"Product\",aggfunc=[\"median\",\"mean\",\"count\"])\n",
    "print(GENDERPRODUCT)"
   ]
  },
  {
   "cell_type": "code",
   "execution_count": 31,
   "metadata": {},
   "outputs": [
    {
     "name": "stdout",
     "output_type": "stream",
     "text": [
      "                 median                              mean                      \\\n",
      "Gender           Female             Male           Female                Male   \n",
      "MaritalStatus Partnered Single Partnered Single Partnered    Single Partnered   \n",
      "Product                                                                         \n",
      "TM195               3.0    3.0       3.0    3.0  2.851852  3.000000  3.285714   \n",
      "TM498               3.0    3.0       3.0    3.0  3.333333  2.928571  2.857143   \n",
      "TM798               5.5    5.0       4.0    4.5  5.250000  4.666667  4.842105   \n",
      "\n",
      "                            count                          \n",
      "Gender                     Female             Male         \n",
      "MaritalStatus    Single Partnered Single Partnered Single  \n",
      "Product                                                    \n",
      "TM195          3.263158        27     13        21     19  \n",
      "TM498          3.300000        15     14        21     10  \n",
      "TM798          4.571429         4      3        19     14  \n"
     ]
    }
   ],
   "source": [
    "PRODUCTUSAGE = pd.pivot_table(trademillsales,values=\"Usage\",index=\"Product\",columns=[\"Gender\",\"MaritalStatus\"],aggfunc=[\"median\",\"mean\",\"count\"])\n",
    "print(PRODUCTUSAGE)"
   ]
  },
  {
   "cell_type": "code",
   "execution_count": 14,
   "metadata": {},
   "outputs": [
    {
     "ename": "TypeError",
     "evalue": "bar() missing 1 required positional argument: 'height'",
     "output_type": "error",
     "traceback": [
      "\u001b[1;31m---------------------------------------------------------------------------\u001b[0m",
      "\u001b[1;31mTypeError\u001b[0m                                 Traceback (most recent call last)",
      "\u001b[1;32mUntitled-1.ipynb Cell 17\u001b[0m in \u001b[0;36m<cell line: 1>\u001b[1;34m()\u001b[0m\n\u001b[1;32m----> <a href='vscode-notebook-cell:Untitled-1.ipynb?jupyter-notebook#X21sdW50aXRsZWQ%3D?line=0'>1</a>\u001b[0m plt\u001b[39m.\u001b[39;49mbar(GENDERPRODUCT)\n",
      "\u001b[1;31mTypeError\u001b[0m: bar() missing 1 required positional argument: 'height'"
     ]
    }
   ],
   "source": [
    "plt.bar(GENDERPRODUCT)"
   ]
  }
 ],
 "metadata": {
  "kernelspec": {
   "display_name": "Python 3.9.7 64-bit",
   "language": "python",
   "name": "python3"
  },
  "language_info": {
   "codemirror_mode": {
    "name": "ipython",
    "version": 3
   },
   "file_extension": ".py",
   "mimetype": "text/x-python",
   "name": "python",
   "nbconvert_exporter": "python",
   "pygments_lexer": "ipython3",
   "version": "3.9.7"
  },
  "orig_nbformat": 4,
  "vscode": {
   "interpreter": {
    "hash": "11938c6bc6919ae2720b4d5011047913343b08a43b18698fd82dedb0d4417594"
   }
  }
 },
 "nbformat": 4,
 "nbformat_minor": 2
}
